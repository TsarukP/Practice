{
  "nbformat": 4,
  "nbformat_minor": 0,
  "metadata": {
    "colab": {
      "name": "Pranctice_3_KM-01_<name>.ipynb",
      "provenance": [],
      "collapsed_sections": []
    },
    "kernelspec": {
      "name": "Python 3.8.5 64-bit",
      "display_name": "Python 3.8.5 64-bit",
      "metadata": {
        "interpreter": {
          "hash": "965ba1120b0c101b3f715b6e258a73742ec1cf86f2c8b04492724c87d9f112c3"
        }
      }
    }
  },
  "cells": [
    {
      "cell_type": "markdown",
      "metadata": {
        "id": "1bRxWHr5e8kt"
      },
      "source": [
        "# **Курс \"Програмування на мові Python\"**\n",
        "\n",
        "##### Викладачі:\n",
        "##### Борисенко Павло Борисович\n",
        "##### Щьоголєв Максим Олегович"
      ]
    },
    {
      "cell_type": "markdown",
      "metadata": {
        "id": "buZUwUgFe-kx"
      },
      "source": [
        "## **Практичне зайняття №4**\n",
        "### Тема: \"Цикли. Робота зі списками\""
      ]
    },
    {
      "cell_type": "markdown",
      "metadata": {
        "id": "PUkxEn8EfAUe"
      },
      "source": [
        "### **Завдання 1 (1,5 бали)**\n",
        "\n"
      ]
    },
    {
      "source": [
        "Керівництво будівельної компанії вирішило підняти заробітні плати всім своїм працівникам на 30%. В залежності від спеціалізації та стажу працівники мають різну заробітну плату. Для підготовки звіту необхідно розрахувати нову заробітну плату для працівників компанії, а також суму індексації.\n",
        "\n",
        "Написати програму, яка буде генерувати таблицю для цього звіту. Початкова заробітна плата працівників подана у списку salary_list (у тисячах гривень).\n",
        "\n",
        "1. Для підрахунку невідомих значень та їх виведення повинен використовуватись цикл.\n",
        "\n",
        "2. Зарплата після індексації та сума індексації для працівників різних категорій повинні зберігатись у двох окремих списках. Порядок значень у кожному з нових списків повинен відповідати порядку значень у списку salary_list.\n",
        "\n",
        "3. Кожне підраховане числове значення має бути округлене до сотих. Для цього слід використати функцію round(). Приклад застосування цієї функції:\n",
        "\n",
        "```\n",
        "value_new = round(2.3741, 2)\n",
        "print(value_new)\n",
        "```\n",
        "\n",
        "4. Дані повинні виводитись у вигляді:\n",
        "\n",
        "**Salary table:**\n",
        "\n",
        "**7.3 9.49 2.19**\n",
        "\n",
        "**8.5 11.05 2.55**\n",
        "\n",
        "**...**\n",
        "\n",
        "salary_list = [[7.3, 8.5, 11, 12.7, 15.2, 21.12, 27.35]]"
      ],
      "cell_type": "markdown",
      "metadata": {}
    },
    {
      "cell_type": "code",
      "execution_count": 2,
      "metadata": {},
      "outputs": [
        {
          "output_type": "stream",
          "name": "stdout",
          "text": [
            "Salary table:\n7.3 9.49 2.19\n8.5 11.05 2.55\n11 14.3 3.3\n12.7 16.51 3.81\n15.2 19.76 4.56\n21.12 27.46 6.34\n"
          ]
        }
      ],
      "source": [
        "salary_list = [7.3, 8.5, 11, 12.7, 15.2, 21.12, 27.35] \n",
        "increased_salary_list_0 = [a * 1.3 for a in salary_list] #creating list with increased salary \n",
        "increased_salary_list = [round(a, 2) for a in increased_salary_list_0] #rounding\n",
        "added_salary_list_0 = [a * 0.3 for a in salary_list] #creating list with added salary\n",
        "added_salary_list = [round(a, 2) for a in added_salary_list_0] #rounding\n",
        "print(\"Salary table:\")\n",
        "for i in range(6):\n",
        "    print(salary_list[i], increased_salary_list[i], added_salary_list[i])"
      ]
    },
    {
      "source": [
        "### **Завдання 2 (1,5 бали)**"
      ],
      "cell_type": "markdown",
      "metadata": {}
    },
    {
      "cell_type": "markdown",
      "metadata": {
        "id": "4n4p_pz7gFKM"
      },
      "source": [
        "Перелічуючи деякі предмети у тексті, ми ставимо між ними коми. В англійській мові слово and зазвичай ставлять між останнім та передостаннім словом у переліку (за виключенням випадку, коли у списку всього одне слово). Розглянемо 4 приклади:\n",
        "\n",
        "**apples**\n",
        "\n",
        "**apples and oranges**\n",
        "\n",
        "**apples, oranges and bananas**\n",
        "\n",
        "**apples, oranges, bananas and lemons**\n",
        "\n",
        "Напишіть програму, яка:\n",
        "\n",
        "1. отримує на вхід перелік деяких предметів, які користувач вводить з клавіатури, та записує їх у список у вигляді окремих елементів;\n",
        "\n",
        "2. виводить ці предмети у тій самій послідовності, в якій вони були введені, розставляючи коми та слово and так, як показано у прикладі."
      ]
    },
    {
      "cell_type": "code",
      "metadata": {
        "id": "Nv66Jkkpf-sI"
      },
      "source": [
        "print(\"\\tPlease, enter the words.\")\n",
        "print(\"(If you want to stop entering, please input word 'stop')\")\n",
        "list_mix = []\n",
        "a = 0\n",
        "while a != 'stop': #adding a posibility to enter many words\n",
        "    a = input()\n",
        "    list_mix.extend([a])\n",
        "list_1 = list_mix[:-3] #creating of 3 new list with different parts of starting code\n",
        "list_2 = list_mix[-3:-2]\n",
        "list_3 = list_mix[-2:-1]\n",
        "final_list_1 = [a + \",\" for a in list_1] #adding different punctuation on different part\n",
        "final_list_2 = [a + \" and \" for a in list_2]\n",
        "final_list_3 = [a + \".\" for a in list_3]\n",
        "final_list = final_list_1 + final_list_2 + final_list_3 #sum of 3 final lists\n",
        "print(\" Result: \")\n",
        "for i in final_list:\n",
        "    print(i, end=' ')"
      ],
      "execution_count": null,
      "outputs": []
    }
  ]
}