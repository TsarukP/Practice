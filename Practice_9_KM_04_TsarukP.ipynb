{
  "nbformat": 4,
  "nbformat_minor": 0,
  "metadata": {
    "colab": {
      "name": "Practice_7_KM-01_.ipynb",
      "provenance": [],
      "collapsed_sections": []
    },
    "kernelspec": {
      "name": "python3",
      "display_name": "Python 3.8.5 64-bit",
      "metadata": {
        "interpreter": {
          "hash": "965ba1120b0c101b3f715b6e258a73742ec1cf86f2c8b04492724c87d9f112c3"
        }
      }
    }
  },
  "cells": [
    {
      "cell_type": "markdown",
      "metadata": {
        "id": "FMqboNwO4rVs"
      },
      "source": [
        "# **Курс \"Програмування на мові Python\"**\n",
        "\n",
        "##### Викладачі:\n",
        "##### Борисенко Павло Борисович\n",
        "##### Щьоголєв Максим Олегович\n"
      ]
    },
    {
      "cell_type": "markdown",
      "metadata": {
        "id": "A2T6MigL5Z06"
      },
      "source": [
        "## **Практичне зайняття №9**\n",
        "\n",
        "### Тема: \"Лямбда-функції. Функції вищих порядків\""
      ]
    },
    {
      "cell_type": "markdown",
      "metadata": {
        "id": "cfCdgK2zXm7e"
      },
      "source": [
        "### **Завдання 1 (1 бал)**\n",
        "\n",
        "Керівництво будівельної компанії вирішило підняти заробітні плати всім своїм працівникам на 30%. В залежності від спеціалізації та стажу працівники мають різну заробітну плату. Для підготовки звіту необхідно розрахувати нову заробітну плату для працівників компанії, а також суму індексації.\n",
        "\n",
        "Написати програму, яка буде генерувати таблицю для цього звіту. Початкова заробітна плата працівників подана у списку salary_list (у тисячах гривень). \n",
        "\n",
        "1. Для підрахунку невідомих значень повинні використовуватись вбудовані функції вищих порядків.\n",
        "\n",
        "2. Зарплата після індексації та сума індексації для працівників різних категорій повинні зберігатись у двох окремих списках. Порядок значень у кожному з нових списків повинен відповідати порядку значень у списку salary_list.\n",
        "\n",
        "3. Кожне підраховане числове значення має бути округлене до сотих.\n",
        "\n",
        "4. Дані повинні виводитись у вигляді:\n",
        "\n",
        "**Salary table:**\n",
        "\n",
        "**7.3 9.49 2.19**\n",
        "\n",
        "**8.5 11.05 2.55**\n",
        "\n",
        "**...**\n",
        "\n",
        "salary_list = [[7.3, 8.5, 11, 12.7, 15.2, 21.12, 27.35]]"
      ]
    },
    {
      "cell_type": "code",
      "metadata": {
        "id": "ifNX2M7LXm7f"
      },
      "source": [
        "from itertools import permutations\n",
        "salary_list = [7.3, 8.5, 11, 12.7, 15.2, 21.12, 27.35] \n",
        "increased_salary_list = list(map(lambda x: round(x*1.3, 2), salary_list))\n",
        "added_salary_list = list(map(lambda x: round(x*0.3, 2), salary_list))\n",
        "print(\"Salary table:\")\n",
        "for element in range(0, 7):\n",
        "    print(salary_list[element], increased_salary_list[element], added_salary_list[element])"
      ],
      "execution_count": 1,
      "outputs": [
        {
          "output_type": "stream",
          "name": "stdout",
          "text": [
            "Salary table:\n7.3 9.49 2.19\n8.5 11.05 2.55\n11 14.3 3.3\n12.7 16.51 3.81\n15.2 19.76 4.56\n21.12 27.46 6.34\n27.35 35.55 8.21\n"
          ]
        }
      ]
    },
    {
      "source": [
        "### **Завдання 2 (2 бали)**\n",
        "\n",
        "Зазвичай рік має 365 днів. Однак у високосні роки додається ще один день - 29 лютого. Правила визначення високосного року такі:\n",
        "\n",
        "- Будь-який рік, що ділиться на 400 - високосний.\n",
        "\n",
        "- З тих років, що залишились, будь-який рік, що ділиться на 100 - **не** високосний.\n",
        "\n",
        "- З тих років, що залишились, будь-який рік, що ділиться на 4 - високосний.\n",
        "\n",
        "- Усі інші роки, що залишились - **не** високосні.\n",
        "\n",
        "1) Створіть функцію, в якій за допомогою вбудованих функцій вищих порядків будуть визначатися високосні роки серед перелічених років у списку years. Створена функція має повертати список високосних років.\n",
        "\n",
        "2) Створіть функцію вищих порядків, яка прийматиме на вхід попередню функцію та визначатиме кількість днів у місяці. Також функція повинна приймати на вхід ще 2 параметри: ціле число від 1 до 12 (місяць) та рік, як ціле чотирицифрове число. Ці значення корисувач має вводити з клавіатури. Перевірку введених даних слід виконувати поза межами функцій."
      ],
      "cell_type": "markdown",
      "metadata": {}
    },
    {
      "cell_type": "code",
      "execution_count": 2,
      "metadata": {},
      "outputs": [
        {
          "output_type": "stream",
          "name": "stdout",
          "text": [
            "[1900 1901 1902 1903 1904 1905 1906 1907 1908 1909 1910 1911 1912 1913\n",
            " 1914 1915 1916 1917 1918 1919 1920 1921 1922 1923 1924 1925 1926 1927\n",
            " 1928 1929 1930 1931 1932 1933 1934 1935 1936 1937 1938 1939 1940 1941\n",
            " 1942 1943 1944 1945 1946 1947 1948 1949 1950 1951 1952 1953 1954 1955\n",
            " 1956 1957 1958 1959 1960 1961 1962 1963 1964 1965 1966 1967 1968 1969\n",
            " 1970 1971 1972 1973 1974 1975 1976 1977 1978 1979 1980 1981 1982 1983\n",
            " 1984 1985 1986 1987 1988 1989 1990 1991 1992 1993 1994 1995 1996 1997\n",
            " 1998 1999 2000 2001 2002 2003 2004 2005 2006 2007 2008 2009 2010 2011\n",
            " 2012 2013 2014 2015 2016 2017 2018 2019 2020]\n",
            "this is incorrect\n",
            "This year is not included\n",
            "This year is not included\n",
            "Number of days: 29\n"
          ]
        }
      ],
      "source": [
        "import numpy as np\n",
        "years = np.arange(1900, 2020+1, 1)\n",
        "print(years)\n",
        "\n",
        "while True:\n",
        "    specified_mounth = input(\"Enter the mounth: \")\n",
        "    try:\n",
        "        specified_mounth = int(specified_mounth)\n",
        "        if specified_mounth <= 0:\n",
        "            print(\"this is incorrect\")\n",
        "            continue\n",
        "        elif specified_mounth > 12:\n",
        "            print(\"this is incorrect\")\n",
        "            continue\n",
        "    except ValueError:\n",
        "        print(\"this is incorrect\")\n",
        "    else:\n",
        "        break\n",
        "\n",
        "while True:\n",
        "    specified_year = input(\"Enter the year: \")\n",
        "    try:\n",
        "        specified_year = int(specified_year)\n",
        "        if specified_year < 1900 or specified_year > 2020:\n",
        "            print(\"This year is not included\")\n",
        "            continue\n",
        "    except ValueError:\n",
        "        print(\"this is incorrect\")\n",
        "    else:\n",
        "        break\n",
        "\n",
        "def determining(arg):\n",
        "    first_list = list(filter(lambda x: x % 400 == 0, years))\n",
        "    second_list = list(filter(lambda x: x % 4 == 0 and x % 100 != 0, years))\n",
        "    final_list = first_list + second_list\n",
        "    return final_list\n",
        "\n",
        "def number_of_years(year, mounth, function):\n",
        "    year = determining(year)\n",
        "    if mounth in [1, 3, 5, 7, 8, 10, 12]:\n",
        "        amount = 31\n",
        "    elif mounth in [4, 6, 9, 11]:\n",
        "        amount = 30\n",
        "    elif specified_year in year:\n",
        "        amount = 29\n",
        "    else:\n",
        "        amount = 28\n",
        "    return amount\n",
        "\n",
        "print(\"Number of days:\", number_of_years(specified_year, specified_mounth, determining))\n"
      ]
    },
    {
      "cell_type": "code",
      "execution_count": null,
      "metadata": {},
      "outputs": [],
      "source": []
    }
  ]
}