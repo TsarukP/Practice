{
  "nbformat": 4,
  "nbformat_minor": 0,
  "metadata": {
    "colab": {
      "name": "Practice_14_KM_01.ipynb",
      "provenance": [],
      "collapsed_sections": []
    },
    "kernelspec": {
      "name": "python3",
      "display_name": "Python 3.8.5 64-bit",
      "metadata": {
        "interpreter": {
          "hash": "965ba1120b0c101b3f715b6e258a73742ec1cf86f2c8b04492724c87d9f112c3"
        }
      }
    }
  },
  "cells": [
    {
      "cell_type": "markdown",
      "metadata": {
        "id": "FMqboNwO4rVs"
      },
      "source": [
        "# **Курс \"Програмування на мові Python\"**\n",
        "\n",
        "##### Викладачі:\n",
        "##### Борисенко Павло Борисович\n",
        "##### Щьоголєв Максим Олегович\n"
      ]
    },
    {
      "cell_type": "markdown",
      "metadata": {
        "id": "A2T6MigL5Z06"
      },
      "source": [
        "## **Практичне зайняття №14**\n",
        "\n",
        "### Тема: \"Робота з файлами\""
      ]
    },
    {
      "cell_type": "markdown",
      "metadata": {
        "id": "cfCdgK2zXm7e"
      },
      "source": [
        "### **Завдання 1 (1,5 бали)**\n",
        "\n",
        "У 1939 році друком вийшов роман американського письменика Ернеста Вінсента Райта \"Ґедсбі\". Особливу увагу публіки він здобув через те, що письменник жодного разу не використав у романі літеру \"e\" (роман складається з більше ніж 50,000 слів), яка є найбільш вживаною літерою в англійській мові.\n",
        "\n",
        "Порахуйте кількість входжень кожної літери у текст роману. Виведіть список літер англійського алфавіту, а також інформацію про те, скільки відсотків від усіх літер тексту складає кожна літера алфавіту.\n",
        "\n",
        "Зауваження:\n",
        "\n",
        "1. Програма має ігнорувати будь-які символи, окрім літер.\n",
        "\n",
        "2. Переведіть усі літери у верхній або у нижній регістр.\n",
        "\n",
        "3. Під час виведення відсортуйте літери у порядку зменшення їхнього відсотка. Літера \"e\" має стояти на останньому місці у цьому списку.\n",
        "\n",
        "4. Виведіть перші 5 та останні 5 літер відсортованого списку разом з відсотковими значеннями, що їм відповідають."
      ]
    },
    {
      "cell_type": "code",
      "metadata": {
        "tags": [],
        "id": "u4-fHJJ6U462"
      },
      "source": [
        "file = open(\"gadsby.txt\", \"r+\")\n",
        "lines = [line.upper() for line in file]\n",
        "file.close()\n",
        "count = 0\n",
        "alphabet = ['a', 'b', 'c', 'd', 'e', 'f', 'g', 'h', 'i', 'j', 'k', 'l', 'm', 'n', 'o', 'p', 'q', 'r', 's', 't', 'u', 'v', 'w', 'x', 'y', 'z']\n",
        "all_letters_count = []\n",
        "proc = []\n",
        "sort_list = []\n",
        "sort_letters = []\n",
        "for i in range(0, 26):\n",
        "    for line in lines:\n",
        "        line = line.lower()\n",
        "        count += line.count(alphabet[i])\n",
        "    all_letters_count.append(count)\n",
        "    count = 0\n",
        "hundret_proc = sum(all_letters_count)\n",
        "for a in all_letters_count:\n",
        "    proc.append((a/hundret_proc)*100)\n",
        "print(\"Список літер:\", alphabet)\n",
        "print(\"Статистика:\")\n",
        "for x in range (0, 26):\n",
        "    print(alphabet[x], proc[x], end=\" %\\n\")\n",
        "print()\n",
        "for x in range (0, 26):\n",
        "    sort_list.append(min(proc))\n",
        "    sort_letters.append(alphabet[proc.index(min(proc))])\n",
        "    proc[proc.index(min(proc))] = 100\n",
        "sort_letters.reverse()\n",
        "sort_list.reverse()\n",
        "print(sort_letters)\n",
        "print(\"Найбільші значення:\")\n",
        "for x in range (0, 5):\n",
        "    print(sort_letters[x], sort_list[x], end=\" %\\n\")\n",
        "print(\"Найменші значення:\")\n",
        "for x in range (-5, 0, 1):\n",
        "    print(sort_letters[x], sort_list[x], end=\" %\\n\")"
      ],
      "execution_count": 59,
      "outputs": [
        {
          "output_type": "stream",
          "name": "stdout",
          "text": [
            "Список літер: ['a', 'b', 'c', 'd', 'e', 'f', 'g', 'h', 'i', 'j', 'k', 'l', 'm', 'n', 'o', 'p', 'q', 'r', 's', 't', 'u', 'v', 'w', 'x', 'y', 'z']\nСтатистика:\na 10.952077882280838 %\nb 2.141762723051175 %\nc 2.66082078118002 %\nd 4.117577729062066 %\ne 0.0018857695118214175 %\nf 2.152134455366193 %\ng 3.6055913066025504 %\nh 4.90865803927115 %\ni 8.825401315324234 %\nj 0.2295924380642576 %\nk 1.1781345025104306 %\nl 5.318812908092308 %\nm 2.0757607901374255 %\nn 8.597223204393844 %\no 10.418876552813332 %\np 1.9041557645616765 %\nq 0.05138721919713363 %\nr 4.757796478325436 %\ns 6.967446903802182 %\nt 8.493977323621621 %\nu 4.158121773566226 %\nv 0.32340947127737313 %\nw 2.797539070787073 %\nx 0.07920231949649954 %\ny 3.175164415529312 %\nz 0.1074888621738208 %\n\n['a', 'o', 'i', 'n', 't', 's', 'l', 'h', 'r', 'u', 'd', 'g', 'y', 'w', 'c', 'f', 'b', 'm', 'p', 'k', 'v', 'j', 'z', 'x', 'q', 'e']\nНайбільші значення:\na 10.952077882280838 %\no 10.418876552813332 %\ni 8.825401315324234 %\nn 8.597223204393844 %\nt 8.493977323621621 %\nНайменші значення:\nj 0.2295924380642576 %\nz 0.1074888621738208 %\nx 0.07920231949649954 %\nq 0.05138721919713363 %\ne 0.0018857695118214175 %\n"
          ]
        }
      ]
    },
    {
      "cell_type": "markdown",
      "metadata": {
        "id": "A34oz70eU463"
      },
      "source": [
        "### **Завдання 2 (1,5 бали)**\n",
        "\n",
        "Створіть CSV-файл, що буде містити від 5 до 10 пісень (творів) вашого улюбленого музиканта. Назва файлу - ім'я музиканта (композитора) або назва гурту.\n",
        "\n",
        "1. Обов'язково додайте до файлу рядок з назвами двох колонок (Song, Year) або (Composition, Year).\n",
        "\n",
        "2. Після запису файлу роздрукуйте назву файлу та усі наявні у файлі рядки (включно із заголовками).\n",
        "\n",
        "3. Для запису та зчитування рядків скористайтесь функціями csv.DictWriter() та csv.DictReader()."
      ]
    },
    {
      "cell_type": "code",
      "metadata": {
        "id": "MEJIrG1GU463"
      },
      "source": [
        "import csv\n",
        "with open('METALLICA.csv', 'w+', newline='') as csvfile:\n",
        "    fieldnames = ['SONG', 'YEAR']\n",
        "    writer = csv.DictWriter(csvfile, fieldnames=fieldnames)\n",
        "    writer.writeheader()\n",
        "    writer.writerow({'SONG': 'Fight Fire with Fire', 'YEAR': '1984'})\n",
        "    writer.writerow({'SONG': 'For Whom the Bell Tolls', 'YEAR': '1984'})\n",
        "    writer.writerow({'SONG': 'Master of Puppets', 'YEAR': '1986'})\n",
        "    writer.writerow({'SONG': 'Blackened', 'YEAR': '1988'})\n",
        "    writer.writerow({'SONG': 'One', 'YEAR': '1988'})\n",
        "    writer.writerow({'SONG': 'Battery', 'YEAR': '1986'})\n",
        "    writer.writerow({'SONG': 'The Call of Ktulu', 'YEAR': '1984'})\n",
        "    writer.writerow({'SONG': 'Damage, Inc', 'YEAR': '1986'})\n",
        "    writer.writerow({'SONG': 'Orion', 'YEAR': '1986'})\n",
        "    writer.writerow({'SONG': 'The Thing That Should Not Be', 'YEAR': '1986'})\n",
        "with open('METALLICA.csv', newline='') as csvfile:\n",
        "    reader = csv.DictReader(csvfile)\n",
        "    for heading in reader.fieldnames:\n",
        "        print(heading, end=' ')\n",
        "    print('\\n------------------------------')\n",
        "    for row in reader:\n",
        "        print(row['SONG'], row['YEAR'])\n",
        "    "
      ],
      "execution_count": 60,
      "outputs": [
        {
          "output_type": "stream",
          "name": "stdout",
          "text": [
            "SONG YEAR \n------------------------------\nFight Fire with Fire 1984\nFor Whom the Bell Tolls 1984\nMaster of Puppets 1986\nBlackened 1988\nOne 1988\nBattery 1986\nThe Call of Ktulu 1984\nDamage, Inc 1986\nOrion 1986\nThe Thing That Should Not Be 1986\n"
          ]
        }
      ]
    },
    {
      "cell_type": "markdown",
      "metadata": {
        "id": "Jb-eSBsWU464"
      },
      "source": [
        "### **Завдання 3 (бонусне, 1 бал)**\n",
        "\n",
        "COCO Dataset - набір фотографій та анотацій до них. Його дуже часто використовують для тренування класифікаторів, призначених для розпізнавання об'єктів та визначення ключових точок на зображеннях.\n",
        "\n",
        "Завантажте файли з описом фотографій COCO Dataset за посиланням: http://images.cocodataset.org/annotations/image_info_test2017.zip\n",
        "\n",
        "1. Відкрийте файл image_info_test-dev2017.json. Інформація про фотографії з бази COCO міститься у полі \"images\". Інформація про категорії, на які розділені всі фотографії, міститься у полі \"categories\".\n",
        "\n",
        "2. Визначте кількість фотографій, інформацію про які можна знайти у цьому файлі (кількість елементів, що відповідають ключу \"images\").\n",
        "\n",
        "3. Визначте кількість наявних категорій (кількість елементів, що відповідають ключу \"categories\").\n",
        "\n",
        "4. Виведіть посилання на фотографію 000000000001.jpg (\"coco_url\"), висоту цієї фотографії (\"height\"), ширину (\"width\") та її ідентифікатор (\"id\").\n",
        "\n",
        "5. Опис структури JSON-файлу для набору фотографій COCO можна знайти за посиланням: https://cocodataset.org/#format-data\n",
        "\n",
        "6. Щоб перевірити правильність результатів, у VS Code встановіть розширення JSON та відкрийте файл image_info_test-dev2017.json. Розширення автоматично визначає кількість елементів у кожному полі."
      ]
    },
    {
      "cell_type": "code",
      "metadata": {
        "id": "74C6WKB_U464"
      },
      "source": [],
      "execution_count": null,
      "outputs": []
    }
  ]
}